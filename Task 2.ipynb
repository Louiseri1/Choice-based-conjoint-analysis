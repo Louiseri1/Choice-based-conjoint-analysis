{
 "cells": [
  {
   "cell_type": "code",
   "execution_count": 247,
   "id": "aa433b94-2735-4b68-804c-bdb8f67db493",
   "metadata": {},
   "outputs": [],
   "source": [
    "import pandas as pd\n",
    "import seaborn as sns\n",
    "import matplotlib.pyplot as plt\n",
    "import plotly.express as px\n",
    "from sklearn.model_selection import train_test_split\n",
    "from sklearn.linear_model import LogisticRegression\n",
    "from sklearn.metrics import accuracy_score\n",
    "from sklearn.pipeline import Pipeline\n",
    "from sklearn.preprocessing import StandardScaler\n",
    "import statsmodels.api as sm\n",
    "from statsmodels.miscmodels.ordinal_model import OrderedModel"
   ]
  },
  {
   "cell_type": "code",
   "execution_count": 98,
   "id": "93d325f4-65d7-491f-be7b-31b496ad6b9b",
   "metadata": {},
   "outputs": [],
   "source": [
    "alt = pd.read_csv('/Users/louiserigal/Documents/Data Science/Portfolio/Mid Term NHH/Task 2/alt_data.csv', sep = ';')\n",
    "sets = pd.read_csv('/Users/louiserigal/Documents/Data Science/Portfolio/Mid Term NHH/Task 2/sets_data.csv', sep = ';', index_col = 'setID')\n",
    "response = pd.read_csv('/Users/louiserigal/Documents/Data Science/Portfolio/Mid Term NHH/Task 2/response_data.csv', sep = ';')"
   ]
  },
  {
   "cell_type": "markdown",
   "id": "2588f06c-1ba3-4be9-8012-98107e04e0bc",
   "metadata": {},
   "source": [
    "DATASET 1 - Informations on the attributes of each alternative"
   ]
  },
  {
   "cell_type": "code",
   "execution_count": 10,
   "id": "0712933c-429b-4fc5-b955-8af8eba14717",
   "metadata": {},
   "outputs": [
    {
     "data": {
      "text/html": [
       "<div>\n",
       "<style scoped>\n",
       "    .dataframe tbody tr th:only-of-type {\n",
       "        vertical-align: middle;\n",
       "    }\n",
       "\n",
       "    .dataframe tbody tr th {\n",
       "        vertical-align: top;\n",
       "    }\n",
       "\n",
       "    .dataframe thead th {\n",
       "        text-align: right;\n",
       "    }\n",
       "</style>\n",
       "<table border=\"1\" class=\"dataframe\">\n",
       "  <thead>\n",
       "    <tr style=\"text-align: right;\">\n",
       "      <th></th>\n",
       "      <th>product</th>\n",
       "      <th>color</th>\n",
       "      <th>brand</th>\n",
       "      <th>price</th>\n",
       "      <th>battery_life</th>\n",
       "    </tr>\n",
       "  </thead>\n",
       "  <tbody>\n",
       "    <tr>\n",
       "      <th>0</th>\n",
       "      <td>1</td>\n",
       "      <td>Black</td>\n",
       "      <td>Apple</td>\n",
       "      <td>990</td>\n",
       "      <td>10</td>\n",
       "    </tr>\n",
       "    <tr>\n",
       "      <th>1</th>\n",
       "      <td>2</td>\n",
       "      <td>Lilac</td>\n",
       "      <td>Apple</td>\n",
       "      <td>990</td>\n",
       "      <td>10</td>\n",
       "    </tr>\n",
       "    <tr>\n",
       "      <th>2</th>\n",
       "      <td>3</td>\n",
       "      <td>White</td>\n",
       "      <td>Apple</td>\n",
       "      <td>990</td>\n",
       "      <td>10</td>\n",
       "    </tr>\n",
       "    <tr>\n",
       "      <th>3</th>\n",
       "      <td>4</td>\n",
       "      <td>Black</td>\n",
       "      <td>Samsung</td>\n",
       "      <td>990</td>\n",
       "      <td>10</td>\n",
       "    </tr>\n",
       "    <tr>\n",
       "      <th>4</th>\n",
       "      <td>5</td>\n",
       "      <td>Lilac</td>\n",
       "      <td>Samsung</td>\n",
       "      <td>990</td>\n",
       "      <td>10</td>\n",
       "    </tr>\n",
       "  </tbody>\n",
       "</table>\n",
       "</div>"
      ],
      "text/plain": [
       "   product  color    brand  price  battery_life\n",
       "0        1  Black    Apple    990            10\n",
       "1        2  Lilac    Apple    990            10\n",
       "2        3  White    Apple    990            10\n",
       "3        4  Black  Samsung    990            10\n",
       "4        5  Lilac  Samsung    990            10"
      ]
     },
     "execution_count": 10,
     "metadata": {},
     "output_type": "execute_result"
    }
   ],
   "source": [
    "# Data Exploration\n",
    "alt.head()"
   ]
  },
  {
   "cell_type": "code",
   "execution_count": 12,
   "id": "abd93c90-bdd2-4533-a586-e6e1067d3403",
   "metadata": {},
   "outputs": [
    {
     "name": "stdout",
     "output_type": "stream",
     "text": [
      "(144, 5)\n"
     ]
    }
   ],
   "source": [
    "# Number of rows and columns\n",
    "print(alt.shape)"
   ]
  },
  {
   "cell_type": "code",
   "execution_count": 14,
   "id": "a5f576b4-f8a5-44f8-982c-3c8789f89479",
   "metadata": {},
   "outputs": [
    {
     "data": {
      "text/html": [
       "<div>\n",
       "<style scoped>\n",
       "    .dataframe tbody tr th:only-of-type {\n",
       "        vertical-align: middle;\n",
       "    }\n",
       "\n",
       "    .dataframe tbody tr th {\n",
       "        vertical-align: top;\n",
       "    }\n",
       "\n",
       "    .dataframe thead th {\n",
       "        text-align: right;\n",
       "    }\n",
       "</style>\n",
       "<table border=\"1\" class=\"dataframe\">\n",
       "  <thead>\n",
       "    <tr style=\"text-align: right;\">\n",
       "      <th></th>\n",
       "      <th>product</th>\n",
       "      <th>price</th>\n",
       "      <th>battery_life</th>\n",
       "    </tr>\n",
       "  </thead>\n",
       "  <tbody>\n",
       "    <tr>\n",
       "      <th>count</th>\n",
       "      <td>144.000000</td>\n",
       "      <td>144.000000</td>\n",
       "      <td>144.000000</td>\n",
       "    </tr>\n",
       "    <tr>\n",
       "      <th>mean</th>\n",
       "      <td>72.500000</td>\n",
       "      <td>3190.000000</td>\n",
       "      <td>37.000000</td>\n",
       "    </tr>\n",
       "    <tr>\n",
       "      <th>std</th>\n",
       "      <td>41.713307</td>\n",
       "      <td>1909.270721</td>\n",
       "      <td>27.242501</td>\n",
       "    </tr>\n",
       "    <tr>\n",
       "      <th>min</th>\n",
       "      <td>1.000000</td>\n",
       "      <td>990.000000</td>\n",
       "      <td>10.000000</td>\n",
       "    </tr>\n",
       "    <tr>\n",
       "      <th>25%</th>\n",
       "      <td>36.750000</td>\n",
       "      <td>2040.000000</td>\n",
       "      <td>16.000000</td>\n",
       "    </tr>\n",
       "    <tr>\n",
       "      <th>50%</th>\n",
       "      <td>72.500000</td>\n",
       "      <td>2790.000000</td>\n",
       "      <td>29.000000</td>\n",
       "    </tr>\n",
       "    <tr>\n",
       "      <th>75%</th>\n",
       "      <td>108.250000</td>\n",
       "      <td>3940.000000</td>\n",
       "      <td>50.000000</td>\n",
       "    </tr>\n",
       "    <tr>\n",
       "      <th>max</th>\n",
       "      <td>144.000000</td>\n",
       "      <td>6190.000000</td>\n",
       "      <td>80.000000</td>\n",
       "    </tr>\n",
       "  </tbody>\n",
       "</table>\n",
       "</div>"
      ],
      "text/plain": [
       "          product        price  battery_life\n",
       "count  144.000000   144.000000    144.000000\n",
       "mean    72.500000  3190.000000     37.000000\n",
       "std     41.713307  1909.270721     27.242501\n",
       "min      1.000000   990.000000     10.000000\n",
       "25%     36.750000  2040.000000     16.000000\n",
       "50%     72.500000  2790.000000     29.000000\n",
       "75%    108.250000  3940.000000     50.000000\n",
       "max    144.000000  6190.000000     80.000000"
      ]
     },
     "execution_count": 14,
     "metadata": {},
     "output_type": "execute_result"
    }
   ],
   "source": [
    "# Basic Statistics\n",
    "alt.describe()\n",
    "\n",
    "# There seems to be no null values in the dataset"
   ]
  },
  {
   "cell_type": "code",
   "execution_count": 16,
   "id": "df4ea413-d9cf-4080-9cbd-86651a8ba054",
   "metadata": {},
   "outputs": [
    {
     "data": {
      "text/plain": [
       "product         0\n",
       "color           0\n",
       "brand           0\n",
       "price           0\n",
       "battery_life    0\n",
       "dtype: int64"
      ]
     },
     "execution_count": 16,
     "metadata": {},
     "output_type": "execute_result"
    }
   ],
   "source": [
    "# Null values \n",
    "alt.isna().sum()"
   ]
  },
  {
   "cell_type": "code",
   "execution_count": 80,
   "id": "c6ecb5e7-660c-4619-bbbf-d266af1fb7f1",
   "metadata": {},
   "outputs": [
    {
     "name": "stdout",
     "output_type": "stream",
     "text": [
      "<class 'pandas.core.frame.DataFrame'>\n",
      "RangeIndex: 144 entries, 0 to 143\n",
      "Data columns (total 5 columns):\n",
      " #   Column        Non-Null Count  Dtype \n",
      "---  ------        --------------  ----- \n",
      " 0   product       144 non-null    int64 \n",
      " 1   color         144 non-null    object\n",
      " 2   brand         144 non-null    object\n",
      " 3   price         144 non-null    int64 \n",
      " 4   battery_life  144 non-null    int64 \n",
      "dtypes: int64(3), object(2)\n",
      "memory usage: 5.8+ KB\n"
     ]
    }
   ],
   "source": [
    "# Data types\n",
    "alt.info()\n",
    "# After visualisations, we will transform color and brand into numericals for modelling."
   ]
  },
  {
   "cell_type": "code",
   "execution_count": 62,
   "id": "a80cb959-19d5-44c8-8e65-deac718340bb",
   "metadata": {},
   "outputs": [
    {
     "data": {
      "image/png": "[encoded data removed]",
      "text/plain": [
       "<Figure size 600x200 with 1 Axes>"
      ]
     },
     "metadata": {},
     "output_type": "display_data"
    }
   ],
   "source": [
    "# Color Attribute Distribution\n",
    "plt.figure(figsize = (6,2))\n",
    "sns.countplot(alt, x = 'color');\n",
    "# equally distributed through the dataset"
   ]
  },
  {
   "cell_type": "code",
   "execution_count": 60,
   "id": "34f37290-7891-4f79-8afb-89f39dd77eac",
   "metadata": {},
   "outputs": [
    {
     "data": {
      "image/png": "[encoded data removed]",
      "text/plain": [
       "<Figure size 600x200 with 1 Axes>"
      ]
     },
     "metadata": {},
     "output_type": "display_data"
    }
   ],
   "source": [
    "# Brand Attribute Distribution\n",
    "plt.figure(figsize = (6,2))\n",
    "sns.countplot(alt, x = 'brand');\n",
    "# equally distributed through the dataset"
   ]
  },
  {
   "cell_type": "code",
   "execution_count": 58,
   "id": "6a2b848d-df13-4d13-8a4b-ea7177f6eac7",
   "metadata": {},
   "outputs": [
    {
     "data": {
      "image/png": "[encoded data removed]",
      "text/plain": [
       "<Figure size 600x200 with 1 Axes>"
      ]
     },
     "metadata": {},
     "output_type": "display_data"
    }
   ],
   "source": [
    "# Price Attribute Distribution\n",
    "plt.figure(figsize = (6,2))\n",
    "sns.boxplot(alt, x = 'price');\n",
    "# No outlier, median price around NOK 2790"
   ]
  },
  {
   "cell_type": "code",
   "execution_count": 70,
   "id": "deee493d-efdf-4efb-919f-b96ce4192e93",
   "metadata": {},
   "outputs": [
    {
     "data": {
      "image/png": "[encoded data removed]",
      "text/plain": [
       "<Figure size 1200x300 with 2 Axes>"
      ]
     },
     "metadata": {},
     "output_type": "display_data"
    }
   ],
   "source": [
    "# Price Attribute Distribution according to the brand and color\n",
    "plt.figure(figsize = (12,3))\n",
    "plt.subplot(121)\n",
    "sns.boxplot(alt, x = 'price', y = 'brand')\n",
    "plt.subplot(122)\n",
    "sns.boxplot(alt, x = 'price', y = 'color')\n",
    "plt.title('Price Attribute Distribution according to the brand and price range');\n",
    "# There is no difference in price distribution depending on the brand or color"
   ]
  },
  {
   "cell_type": "code",
   "execution_count": 64,
   "id": "a4b5ccb8-a848-4b75-aa70-36369b469057",
   "metadata": {},
   "outputs": [
    {
     "data": {
      "image/png": "[encoded data removed]",
      "text/plain": [
       "<Figure size 600x200 with 1 Axes>"
      ]
     },
     "metadata": {},
     "output_type": "display_data"
    }
   ],
   "source": [
    "# Battery Life Attribute Distribution\n",
    "plt.figure(figsize = (6,2))\n",
    "sns.boxplot(alt, x = 'battery_life');\n",
    "# No outlier, median battery life around 29 hours"
   ]
  },
  {
   "cell_type": "code",
   "execution_count": 68,
   "id": "74d33337-7c87-4d92-be8b-17d494738dd0",
   "metadata": {},
   "outputs": [
    {
     "data": {
      "image/png": "[encoded data removed]",
      "text/plain": [
       "<Figure size 1200x300 with 2 Axes>"
      ]
     },
     "metadata": {},
     "output_type": "display_data"
    }
   ],
   "source": [
    "# Battery Life Attribute Distribution according to the brand and price range\n",
    "plt.figure(figsize = (12,3))\n",
    "plt.subplot(121)\n",
    "sns.boxplot(alt, x = 'battery_life', y = 'brand')\n",
    "plt.subplot(122)\n",
    "sns.boxplot(alt, x = 'battery_life', y = 'price')\n",
    "plt.title('Battery Life Attribute Distribution according to the brand and price range');\n",
    "# There is no difference in battery life distribution depending on the brand or price range"
   ]
  },
  {
   "cell_type": "markdown",
   "id": "8f1f0271-6ce3-4bb1-85a7-e530eedb8ab7",
   "metadata": {},
   "source": [
    "DATASET 2 - Informations on the alternatives per each choice set"
   ]
  },
  {
   "cell_type": "code",
   "execution_count": 84,
   "id": "be0f3184-f393-41e4-8337-623739e1b339",
   "metadata": {},
   "outputs": [
    {
     "data": {
      "text/html": [
       "<div>\n",
       "<style scoped>\n",
       "    .dataframe tbody tr th:only-of-type {\n",
       "        vertical-align: middle;\n",
       "    }\n",
       "\n",
       "    .dataframe tbody tr th {\n",
       "        vertical-align: top;\n",
       "    }\n",
       "\n",
       "    .dataframe thead th {\n",
       "        text-align: right;\n",
       "    }\n",
       "</style>\n",
       "<table border=\"1\" class=\"dataframe\">\n",
       "  <thead>\n",
       "    <tr style=\"text-align: right;\">\n",
       "      <th></th>\n",
       "      <th>productID1</th>\n",
       "      <th>productID2</th>\n",
       "      <th>productID3</th>\n",
       "    </tr>\n",
       "    <tr>\n",
       "      <th>setID</th>\n",
       "      <th></th>\n",
       "      <th></th>\n",
       "      <th></th>\n",
       "    </tr>\n",
       "  </thead>\n",
       "  <tbody>\n",
       "    <tr>\n",
       "      <th>1</th>\n",
       "      <td>12</td>\n",
       "      <td>126</td>\n",
       "      <td>60</td>\n",
       "    </tr>\n",
       "    <tr>\n",
       "      <th>2</th>\n",
       "      <td>1</td>\n",
       "      <td>35</td>\n",
       "      <td>81</td>\n",
       "    </tr>\n",
       "    <tr>\n",
       "      <th>3</th>\n",
       "      <td>101</td>\n",
       "      <td>87</td>\n",
       "      <td>8</td>\n",
       "    </tr>\n",
       "    <tr>\n",
       "      <th>4</th>\n",
       "      <td>123</td>\n",
       "      <td>20</td>\n",
       "      <td>91</td>\n",
       "    </tr>\n",
       "    <tr>\n",
       "      <th>5</th>\n",
       "      <td>30</td>\n",
       "      <td>68</td>\n",
       "      <td>19</td>\n",
       "    </tr>\n",
       "  </tbody>\n",
       "</table>\n",
       "</div>"
      ],
      "text/plain": [
       "       productID1  productID2  productID3\n",
       "setID                                    \n",
       "1              12         126          60\n",
       "2               1          35          81\n",
       "3             101          87           8\n",
       "4             123          20          91\n",
       "5              30          68          19"
      ]
     },
     "execution_count": 84,
     "metadata": {},
     "output_type": "execute_result"
    }
   ],
   "source": [
    "# Data Exploration\n",
    "sets.head()\n",
    "# In each set (identified by its setID), the customer will have to rank its preferences between productID1, 2 and 3.\n",
    "# Evaluating a number of choice sets was considered as a 'task' (usefull for response dataset)"
   ]
  },
  {
   "cell_type": "code",
   "execution_count": 90,
   "id": "b4447ff6-809d-4113-80e4-4c509649bfef",
   "metadata": {},
   "outputs": [
    {
     "data": {
      "text/plain": [
       "(1000, 3)"
      ]
     },
     "execution_count": 90,
     "metadata": {},
     "output_type": "execute_result"
    }
   ],
   "source": [
    "# Number of rows and columns\n",
    "sets.shape\n",
    "# There are 1000 sets and each of them contain 3 products"
   ]
  },
  {
   "cell_type": "code",
   "execution_count": 86,
   "id": "52a8243b-41d8-4476-822c-1dedb07d10a7",
   "metadata": {},
   "outputs": [
    {
     "data": {
      "text/plain": [
       "productID1    0\n",
       "productID2    0\n",
       "productID3    0\n",
       "dtype: int64"
      ]
     },
     "execution_count": 86,
     "metadata": {},
     "output_type": "execute_result"
    }
   ],
   "source": [
    "# Null values\n",
    "sets.isna().sum()\n",
    "# No NaN"
   ]
  },
  {
   "cell_type": "code",
   "execution_count": 88,
   "id": "2d220c84-bbab-408b-9e92-2f37d90c7192",
   "metadata": {},
   "outputs": [
    {
     "name": "stdout",
     "output_type": "stream",
     "text": [
      "<class 'pandas.core.frame.DataFrame'>\n",
      "Index: 1000 entries, 1 to 1000\n",
      "Data columns (total 3 columns):\n",
      " #   Column      Non-Null Count  Dtype\n",
      "---  ------      --------------  -----\n",
      " 0   productID1  1000 non-null   int64\n",
      " 1   productID2  1000 non-null   int64\n",
      " 2   productID3  1000 non-null   int64\n",
      "dtypes: int64(3)\n",
      "memory usage: 31.2 KB\n"
     ]
    }
   ],
   "source": [
    "# Data types \n",
    "sets.info()"
   ]
  },
  {
   "cell_type": "markdown",
   "id": "182596c9-a2da-4860-96f1-88b5135c4901",
   "metadata": {},
   "source": [
    "DATASET 3 - Informations on the customer's choice per each task and their demographic information"
   ]
  },
  {
   "cell_type": "code",
   "execution_count": 100,
   "id": "9aeef091-76eb-4aa6-9720-504d1e885f35",
   "metadata": {},
   "outputs": [
    {
     "data": {
      "text/html": [
       "<div>\n",
       "<style scoped>\n",
       "    .dataframe tbody tr th:only-of-type {\n",
       "        vertical-align: middle;\n",
       "    }\n",
       "\n",
       "    .dataframe tbody tr th {\n",
       "        vertical-align: top;\n",
       "    }\n",
       "\n",
       "    .dataframe thead th {\n",
       "        text-align: right;\n",
       "    }\n",
       "</style>\n",
       "<table border=\"1\" class=\"dataframe\">\n",
       "  <thead>\n",
       "    <tr style=\"text-align: right;\">\n",
       "      <th></th>\n",
       "      <th>respID</th>\n",
       "      <th>taskID</th>\n",
       "      <th>setID</th>\n",
       "      <th>prodID1</th>\n",
       "      <th>prodID2</th>\n",
       "      <th>prodID3</th>\n",
       "      <th>choice</th>\n",
       "      <th>age</th>\n",
       "      <th>gender</th>\n",
       "      <th>region</th>\n",
       "    </tr>\n",
       "  </thead>\n",
       "  <tbody>\n",
       "    <tr>\n",
       "      <th>0</th>\n",
       "      <td>3986</td>\n",
       "      <td>1</td>\n",
       "      <td>415</td>\n",
       "      <td>30</td>\n",
       "      <td>94</td>\n",
       "      <td>99</td>\n",
       "      <td>3</td>\n",
       "      <td>41</td>\n",
       "      <td>female</td>\n",
       "      <td>Oslo</td>\n",
       "    </tr>\n",
       "    <tr>\n",
       "      <th>1</th>\n",
       "      <td>3986</td>\n",
       "      <td>2</td>\n",
       "      <td>463</td>\n",
       "      <td>114</td>\n",
       "      <td>12</td>\n",
       "      <td>24</td>\n",
       "      <td>1</td>\n",
       "      <td>41</td>\n",
       "      <td>female</td>\n",
       "      <td>Oslo</td>\n",
       "    </tr>\n",
       "    <tr>\n",
       "      <th>2</th>\n",
       "      <td>3986</td>\n",
       "      <td>3</td>\n",
       "      <td>179</td>\n",
       "      <td>101</td>\n",
       "      <td>135</td>\n",
       "      <td>6</td>\n",
       "      <td>3</td>\n",
       "      <td>41</td>\n",
       "      <td>female</td>\n",
       "      <td>Oslo</td>\n",
       "    </tr>\n",
       "    <tr>\n",
       "      <th>3</th>\n",
       "      <td>3986</td>\n",
       "      <td>4</td>\n",
       "      <td>526</td>\n",
       "      <td>1</td>\n",
       "      <td>93</td>\n",
       "      <td>117</td>\n",
       "      <td>1</td>\n",
       "      <td>41</td>\n",
       "      <td>female</td>\n",
       "      <td>Oslo</td>\n",
       "    </tr>\n",
       "    <tr>\n",
       "      <th>4</th>\n",
       "      <td>3986</td>\n",
       "      <td>5</td>\n",
       "      <td>195</td>\n",
       "      <td>4</td>\n",
       "      <td>135</td>\n",
       "      <td>131</td>\n",
       "      <td>1</td>\n",
       "      <td>41</td>\n",
       "      <td>female</td>\n",
       "      <td>Oslo</td>\n",
       "    </tr>\n",
       "  </tbody>\n",
       "</table>\n",
       "</div>"
      ],
      "text/plain": [
       "   respID  taskID  setID  prodID1  prodID2  prodID3  choice  age  gender  \\\n",
       "0    3986       1    415       30       94       99       3   41  female   \n",
       "1    3986       2    463      114       12       24       1   41  female   \n",
       "2    3986       3    179      101      135        6       3   41  female   \n",
       "3    3986       4    526        1       93      117       1   41  female   \n",
       "4    3986       5    195        4      135      131       1   41  female   \n",
       "\n",
       "  region  \n",
       "0   Oslo  \n",
       "1   Oslo  \n",
       "2   Oslo  \n",
       "3   Oslo  \n",
       "4   Oslo  "
      ]
     },
     "execution_count": 100,
     "metadata": {},
     "output_type": "execute_result"
    }
   ],
   "source": [
    "# Data exploration\n",
    "response.head()\n",
    "# The chosen product is refered as 'choice' between 1-3"
   ]
  },
  {
   "cell_type": "code",
   "execution_count": 124,
   "id": "65fcbd8e-903c-44fe-b86d-772a5211c894",
   "metadata": {},
   "outputs": [
    {
     "data": {
      "text/plain": [
       "(6000, 10)"
      ]
     },
     "execution_count": 124,
     "metadata": {},
     "output_type": "execute_result"
    }
   ],
   "source": [
    "# Number of rows and columns\n",
    "response.shape\n",
    "# 6000 observations and 10 columns"
   ]
  },
  {
   "cell_type": "code",
   "execution_count": 120,
   "id": "a8bc184a-ec40-4548-bf27-6800dcc3eea4",
   "metadata": {},
   "outputs": [
    {
     "data": {
      "text/plain": [
       "respID     0\n",
       "taskID     0\n",
       "setID      0\n",
       "prodID1    0\n",
       "prodID2    0\n",
       "prodID3    0\n",
       "choice     0\n",
       "age        0\n",
       "gender     0\n",
       "region     0\n",
       "dtype: int64"
      ]
     },
     "execution_count": 120,
     "metadata": {},
     "output_type": "execute_result"
    }
   ],
   "source": [
    "# Null values\n",
    "response.isna().sum()\n",
    "# No NaN"
   ]
  },
  {
   "cell_type": "code",
   "execution_count": 122,
   "id": "8ab9c237-3e10-4f33-ba6e-c3561510efc5",
   "metadata": {},
   "outputs": [
    {
     "name": "stdout",
     "output_type": "stream",
     "text": [
      "<class 'pandas.core.frame.DataFrame'>\n",
      "RangeIndex: 6000 entries, 0 to 5999\n",
      "Data columns (total 10 columns):\n",
      " #   Column   Non-Null Count  Dtype \n",
      "---  ------   --------------  ----- \n",
      " 0   respID   6000 non-null   int64 \n",
      " 1   taskID   6000 non-null   int64 \n",
      " 2   setID    6000 non-null   int64 \n",
      " 3   prodID1  6000 non-null   int64 \n",
      " 4   prodID2  6000 non-null   int64 \n",
      " 5   prodID3  6000 non-null   int64 \n",
      " 6   choice   6000 non-null   int64 \n",
      " 7   age      6000 non-null   int64 \n",
      " 8   gender   6000 non-null   object\n",
      " 9   region   6000 non-null   object\n",
      "dtypes: int64(8), object(2)\n",
      "memory usage: 468.9+ KB\n"
     ]
    }
   ],
   "source": [
    "# Data types\n",
    "response.info()"
   ]
  },
  {
   "cell_type": "code",
   "execution_count": 118,
   "id": "e9b9bba0-7631-4ce6-bfc7-c05e98fc1c4a",
   "metadata": {},
   "outputs": [
    {
     "data": {
      "text/html": [
       "<div>\n",
       "<style scoped>\n",
       "    .dataframe tbody tr th:only-of-type {\n",
       "        vertical-align: middle;\n",
       "    }\n",
       "\n",
       "    .dataframe tbody tr th {\n",
       "        vertical-align: top;\n",
       "    }\n",
       "\n",
       "    .dataframe thead th {\n",
       "        text-align: right;\n",
       "    }\n",
       "</style>\n",
       "<table border=\"1\" class=\"dataframe\">\n",
       "  <thead>\n",
       "    <tr style=\"text-align: right;\">\n",
       "      <th></th>\n",
       "      <th>taskID</th>\n",
       "    </tr>\n",
       "  </thead>\n",
       "  <tbody>\n",
       "    <tr>\n",
       "      <th>count</th>\n",
       "      <td>500.0</td>\n",
       "    </tr>\n",
       "    <tr>\n",
       "      <th>mean</th>\n",
       "      <td>12.0</td>\n",
       "    </tr>\n",
       "    <tr>\n",
       "      <th>std</th>\n",
       "      <td>0.0</td>\n",
       "    </tr>\n",
       "    <tr>\n",
       "      <th>min</th>\n",
       "      <td>12.0</td>\n",
       "    </tr>\n",
       "    <tr>\n",
       "      <th>25%</th>\n",
       "      <td>12.0</td>\n",
       "    </tr>\n",
       "    <tr>\n",
       "      <th>50%</th>\n",
       "      <td>12.0</td>\n",
       "    </tr>\n",
       "    <tr>\n",
       "      <th>75%</th>\n",
       "      <td>12.0</td>\n",
       "    </tr>\n",
       "    <tr>\n",
       "      <th>max</th>\n",
       "      <td>12.0</td>\n",
       "    </tr>\n",
       "  </tbody>\n",
       "</table>\n",
       "</div>"
      ],
      "text/plain": [
       "       taskID\n",
       "count   500.0\n",
       "mean     12.0\n",
       "std       0.0\n",
       "min      12.0\n",
       "25%      12.0\n",
       "50%      12.0\n",
       "75%      12.0\n",
       "max      12.0"
      ]
     },
     "execution_count": 118,
     "metadata": {},
     "output_type": "execute_result"
    }
   ],
   "source": [
    "# Number of tasks by participant\n",
    "participant = response[['respID', 'taskID']].groupby('respID').count()\n",
    "participant.describe()\n",
    "# Each participant (500 in total), makes 12 ranking task for the marketing survey"
   ]
  },
  {
   "cell_type": "code",
   "execution_count": 129,
   "id": "10c8b1ea-5078-4558-aac0-b05f338d0708",
   "metadata": {},
   "outputs": [],
   "source": [
    "# Conclusion of the data exploration\n",
    "# Our datasets are really homogenenous and equilibrated. Therefore, our modelling will be reliable without a lot of transformations,\n",
    "# because the datasets are not biaised."
   ]
  },
  {
   "cell_type": "markdown",
   "id": "168e5ed0-338d-418d-96b4-2f7bde7318d5",
   "metadata": {},
   "source": [
    "Investigate the respondents' preference for smart watches"
   ]
  },
  {
   "cell_type": "code",
   "execution_count": 127,
   "id": "74001be1-b4de-4858-8f31-d2847cef73dc",
   "metadata": {},
   "outputs": [],
   "source": [
    "# Selection of the DV and IVs\n",
    "# We would like to predict the prefered choise of the customer depending on the set of choice presented to him/her.\n",
    "# Our DV is therefore : choice\n",
    "\n",
    "# Our IVs are numerous: \n",
    "# product's attributes: the brand, color, price, battery level of each product in the set of choice\n",
    "# customer's attributes: gender, age, region\n",
    "\n",
    "# We are facing a multinomial classification problem : our prediction will be wether category 1, 2 or 3\n",
    "# (ID of the prefered product in the set)"
   ]
  },
  {
   "cell_type": "code",
   "execution_count": 131,
   "id": "b07f6439-af90-45d1-9377-3423c4e19164",
   "metadata": {},
   "outputs": [],
   "source": [
    "# Appropriate method and building of the models\n",
    "\n",
    "# We will first need to merge our datasets to gather usefull information. To have both products' attributes and participants' informations \n",
    "# we will merge alt and response. We will not need to use set_data as the setID and productsID also appear in response_data.\n",
    "\n",
    "# We will then construct and test several multinomial logistic regression model, balancing differently the IVs everytime."
   ]
  },
  {
   "cell_type": "code",
   "execution_count": 151,
   "id": "42bf9846-a1f6-4754-b9db-0216c80746f8",
   "metadata": {},
   "outputs": [],
   "source": [
    "# Merge alt and response datasets\n",
    "\n",
    "# 1st merge to obtain attributes for productID1\n",
    "survey = response.merge(right = alt, left_on = 'prodID1', right_on = 'product')\n",
    "col_names = {'color' : 'color_prodID1', 'brand' : 'brand_prodID1', 'price' : 'price_prodID1', 'battery_life' : 'battery_life_prodID1'}\n",
    "survey = survey.rename(col_names, axis = 1)\n",
    "\n",
    "# 2nd merge to obtain attributes for productID2\n",
    "survey = survey.merge(right = alt, left_on = 'prodID2', right_on = 'product')\n",
    "col_names = {'color' : 'color_prodID2', 'brand' : 'brand_prodID2', 'price' : 'price_prodID2', 'battery_life' : 'battery_life_prodID2'}\n",
    "survey = survey.rename(col_names, axis = 1)\n",
    "\n",
    "# 3rd merge to obtain attributes for productID3\n",
    "survey = survey.merge(right = alt, left_on = 'prodID3', right_on = 'product')\n",
    "col_names = {'color' : 'color_prodID3', 'brand' : 'brand_prodID3', 'price' : 'price_prodID3', 'battery_life' : 'battery_life_prodID3'}\n",
    "survey = survey.rename(col_names, axis = 1)"
   ]
  },
  {
   "cell_type": "code",
   "execution_count": 155,
   "id": "0f45e64a-9ec9-4d38-8647-ab759d172655",
   "metadata": {},
   "outputs": [],
   "source": [
    "# We can drop 'product_x', 'product_y' and 'product' from survey dataset, they duplicate prodID1, prodID2, prodID3\n",
    "survey_1 = survey.drop(columns = ['product_x', 'product_y', 'product'], axis = 1)"
   ]
  },
  {
   "cell_type": "code",
   "execution_count": 157,
   "id": "3a5d1bba-8571-4eba-a574-fe7a74a433bd",
   "metadata": {},
   "outputs": [
    {
     "data": {
      "text/html": [
       "<div>\n",
       "<style scoped>\n",
       "    .dataframe tbody tr th:only-of-type {\n",
       "        vertical-align: middle;\n",
       "    }\n",
       "\n",
       "    .dataframe tbody tr th {\n",
       "        vertical-align: top;\n",
       "    }\n",
       "\n",
       "    .dataframe thead th {\n",
       "        text-align: right;\n",
       "    }\n",
       "</style>\n",
       "<table border=\"1\" class=\"dataframe\">\n",
       "  <thead>\n",
       "    <tr style=\"text-align: right;\">\n",
       "      <th></th>\n",
       "      <th>respID</th>\n",
       "      <th>taskID</th>\n",
       "      <th>setID</th>\n",
       "      <th>prodID1</th>\n",
       "      <th>prodID2</th>\n",
       "      <th>prodID3</th>\n",
       "      <th>choice</th>\n",
       "      <th>age</th>\n",
       "      <th>gender</th>\n",
       "      <th>region</th>\n",
       "      <th>...</th>\n",
       "      <th>price_prodID1</th>\n",
       "      <th>battery_life_prodID1</th>\n",
       "      <th>color_prodID2</th>\n",
       "      <th>brand_prodID2</th>\n",
       "      <th>price_prodID2</th>\n",
       "      <th>battery_life_prodID2</th>\n",
       "      <th>color_prodID3</th>\n",
       "      <th>brand_prodID3</th>\n",
       "      <th>price_prodID3</th>\n",
       "      <th>battery_life_prodID3</th>\n",
       "    </tr>\n",
       "  </thead>\n",
       "  <tbody>\n",
       "    <tr>\n",
       "      <th>0</th>\n",
       "      <td>3986</td>\n",
       "      <td>1</td>\n",
       "      <td>415</td>\n",
       "      <td>30</td>\n",
       "      <td>94</td>\n",
       "      <td>99</td>\n",
       "      <td>3</td>\n",
       "      <td>41</td>\n",
       "      <td>female</td>\n",
       "      <td>Oslo</td>\n",
       "      <td>...</td>\n",
       "      <td>6190</td>\n",
       "      <td>10</td>\n",
       "      <td>Black</td>\n",
       "      <td>Samsung</td>\n",
       "      <td>3190</td>\n",
       "      <td>40</td>\n",
       "      <td>White</td>\n",
       "      <td>Fitbit</td>\n",
       "      <td>3190</td>\n",
       "      <td>40</td>\n",
       "    </tr>\n",
       "    <tr>\n",
       "      <th>1</th>\n",
       "      <td>41159</td>\n",
       "      <td>6</td>\n",
       "      <td>415</td>\n",
       "      <td>30</td>\n",
       "      <td>94</td>\n",
       "      <td>99</td>\n",
       "      <td>1</td>\n",
       "      <td>22</td>\n",
       "      <td>female</td>\n",
       "      <td>Nordland</td>\n",
       "      <td>...</td>\n",
       "      <td>6190</td>\n",
       "      <td>10</td>\n",
       "      <td>Black</td>\n",
       "      <td>Samsung</td>\n",
       "      <td>3190</td>\n",
       "      <td>40</td>\n",
       "      <td>White</td>\n",
       "      <td>Fitbit</td>\n",
       "      <td>3190</td>\n",
       "      <td>40</td>\n",
       "    </tr>\n",
       "    <tr>\n",
       "      <th>2</th>\n",
       "      <td>7601</td>\n",
       "      <td>8</td>\n",
       "      <td>415</td>\n",
       "      <td>30</td>\n",
       "      <td>94</td>\n",
       "      <td>99</td>\n",
       "      <td>3</td>\n",
       "      <td>55</td>\n",
       "      <td>female</td>\n",
       "      <td>Vestland</td>\n",
       "      <td>...</td>\n",
       "      <td>6190</td>\n",
       "      <td>10</td>\n",
       "      <td>Black</td>\n",
       "      <td>Samsung</td>\n",
       "      <td>3190</td>\n",
       "      <td>40</td>\n",
       "      <td>White</td>\n",
       "      <td>Fitbit</td>\n",
       "      <td>3190</td>\n",
       "      <td>40</td>\n",
       "    </tr>\n",
       "    <tr>\n",
       "      <th>3</th>\n",
       "      <td>33634</td>\n",
       "      <td>8</td>\n",
       "      <td>415</td>\n",
       "      <td>30</td>\n",
       "      <td>94</td>\n",
       "      <td>99</td>\n",
       "      <td>2</td>\n",
       "      <td>23</td>\n",
       "      <td>female</td>\n",
       "      <td>Oslo</td>\n",
       "      <td>...</td>\n",
       "      <td>6190</td>\n",
       "      <td>10</td>\n",
       "      <td>Black</td>\n",
       "      <td>Samsung</td>\n",
       "      <td>3190</td>\n",
       "      <td>40</td>\n",
       "      <td>White</td>\n",
       "      <td>Fitbit</td>\n",
       "      <td>3190</td>\n",
       "      <td>40</td>\n",
       "    </tr>\n",
       "    <tr>\n",
       "      <th>4</th>\n",
       "      <td>45859</td>\n",
       "      <td>4</td>\n",
       "      <td>415</td>\n",
       "      <td>30</td>\n",
       "      <td>94</td>\n",
       "      <td>99</td>\n",
       "      <td>3</td>\n",
       "      <td>30</td>\n",
       "      <td>male</td>\n",
       "      <td>Oslo</td>\n",
       "      <td>...</td>\n",
       "      <td>6190</td>\n",
       "      <td>10</td>\n",
       "      <td>Black</td>\n",
       "      <td>Samsung</td>\n",
       "      <td>3190</td>\n",
       "      <td>40</td>\n",
       "      <td>White</td>\n",
       "      <td>Fitbit</td>\n",
       "      <td>3190</td>\n",
       "      <td>40</td>\n",
       "    </tr>\n",
       "  </tbody>\n",
       "</table>\n",
       "<p>5 rows × 22 columns</p>\n",
       "</div>"
      ],
      "text/plain": [
       "   respID  taskID  setID  prodID1  prodID2  prodID3  choice  age  gender  \\\n",
       "0    3986       1    415       30       94       99       3   41  female   \n",
       "1   41159       6    415       30       94       99       1   22  female   \n",
       "2    7601       8    415       30       94       99       3   55  female   \n",
       "3   33634       8    415       30       94       99       2   23  female   \n",
       "4   45859       4    415       30       94       99       3   30    male   \n",
       "\n",
       "     region  ... price_prodID1 battery_life_prodID1  color_prodID2  \\\n",
       "0      Oslo  ...          6190                   10          Black   \n",
       "1  Nordland  ...          6190                   10          Black   \n",
       "2  Vestland  ...          6190                   10          Black   \n",
       "3      Oslo  ...          6190                   10          Black   \n",
       "4      Oslo  ...          6190                   10          Black   \n",
       "\n",
       "   brand_prodID2 price_prodID2 battery_life_prodID2  color_prodID3  \\\n",
       "0        Samsung          3190                   40          White   \n",
       "1        Samsung          3190                   40          White   \n",
       "2        Samsung          3190                   40          White   \n",
       "3        Samsung          3190                   40          White   \n",
       "4        Samsung          3190                   40          White   \n",
       "\n",
       "   brand_prodID3 price_prodID3 battery_life_prodID3  \n",
       "0         Fitbit          3190                   40  \n",
       "1         Fitbit          3190                   40  \n",
       "2         Fitbit          3190                   40  \n",
       "3         Fitbit          3190                   40  \n",
       "4         Fitbit          3190                   40  \n",
       "\n",
       "[5 rows x 22 columns]"
      ]
     },
     "execution_count": 157,
     "metadata": {},
     "output_type": "execute_result"
    }
   ],
   "source": [
    "# Overview of the merged dataset\n",
    "survey_1.head()"
   ]
  },
  {
   "cell_type": "code",
   "execution_count": 163,
   "id": "c4ee2e4d-4480-4fa1-903c-a4a4d5d00b8d",
   "metadata": {},
   "outputs": [
    {
     "name": "stdout",
     "output_type": "stream",
     "text": [
      "<class 'pandas.core.frame.DataFrame'>\n",
      "RangeIndex: 6000 entries, 0 to 5999\n",
      "Data columns (total 22 columns):\n",
      " #   Column                Non-Null Count  Dtype \n",
      "---  ------                --------------  ----- \n",
      " 0   respID                6000 non-null   int64 \n",
      " 1   taskID                6000 non-null   int64 \n",
      " 2   setID                 6000 non-null   int64 \n",
      " 3   prodID1               6000 non-null   int64 \n",
      " 4   prodID2               6000 non-null   int64 \n",
      " 5   prodID3               6000 non-null   int64 \n",
      " 6   choice                6000 non-null   int64 \n",
      " 7   age                   6000 non-null   int64 \n",
      " 8   gender                6000 non-null   object\n",
      " 9   region                6000 non-null   object\n",
      " 10  color_prodID1         6000 non-null   object\n",
      " 11  brand_prodID1         6000 non-null   object\n",
      " 12  price_prodID1         6000 non-null   int64 \n",
      " 13  battery_life_prodID1  6000 non-null   int64 \n",
      " 14  color_prodID2         6000 non-null   object\n",
      " 15  brand_prodID2         6000 non-null   object\n",
      " 16  price_prodID2         6000 non-null   int64 \n",
      " 17  battery_life_prodID2  6000 non-null   int64 \n",
      " 18  color_prodID3         6000 non-null   object\n",
      " 19  brand_prodID3         6000 non-null   object\n",
      " 20  price_prodID3         6000 non-null   int64 \n",
      " 21  battery_life_prodID3  6000 non-null   int64 \n",
      "dtypes: int64(14), object(8)\n",
      "memory usage: 1.0+ MB\n"
     ]
    }
   ],
   "source": [
    "# For modelling, we will need to have numerical values\n",
    "display(survey_1.info())\n",
    "# We can convert gender, region into categorical values\n",
    "# We can convert color, brand for each productID into categorical values"
   ]
  },
  {
   "cell_type": "code",
   "execution_count": 171,
   "id": "c1861abc-dae9-41bf-8566-e61e2fa8e817",
   "metadata": {},
   "outputs": [
    {
     "data": {
      "text/plain": [
       "region\n",
       "Oslo                    2388\n",
       "Vestland                 924\n",
       "Nordland                 444\n",
       "Rogaland                 348\n",
       "Agder                    336\n",
       "Viken                    324\n",
       "Trøndelag                276\n",
       "Vestfold og Telemark     264\n",
       "Møre og Romsdal          252\n",
       "Innlandet                252\n",
       "Troms og Finnmark        192\n",
       "Name: count, dtype: int64"
      ]
     },
     "metadata": {},
     "output_type": "display_data"
    }
   ],
   "source": [
    "# Customer's attributes\n",
    "\n",
    "# Gender\n",
    "# We encode male as 0 and female as 1\n",
    "survey_1['gender'] = survey_1['gender'].replace(['male', 'female'], [0,1])\n",
    "\n",
    "# Region\n",
    "display(survey_1['region'].value_counts())\n",
    "liste_region = ['Oslo', 'Vestland', 'Nordland', 'Rogaland', 'Agder', 'Viken', 'Trøndelag', \n",
    "                'Vestfold og Telemark', 'Møre og Romsdal','Innlandet', 'Troms og Finnmark']\n",
    "transform_liste = [0, 1, 2, 3, 4, 5, 6, 7, 8, 9, 10]\n",
    "survey_1['region'] = survey_1['region'].replace(liste_region, transform_liste)"
   ]
  },
  {
   "cell_type": "code",
   "execution_count": 181,
   "id": "3b1ac640-cc70-41f1-bbe2-51f020537f8b",
   "metadata": {},
   "outputs": [],
   "source": [
    "# Product's attributes\n",
    "\n",
    "# Color: we encode black as 0, lilac as 1 and white as 2\n",
    "survey_1[['color_prodID1', 'color_prodID2', 'color_prodID3']] = survey_1[['color_prodID1', 'color_prodID2', 'color_prodID3']].replace(\n",
    "    ['Black', 'Lilac', 'White'], [0, 1, 2])\n",
    "                                                                       \n",
    "# Brand: we encode apple as 0, samsung as 1 and fitbit as 2\n",
    "survey_1[['brand_prodID1', 'brand_prodID2', 'brand_prodID3']] = survey_1[['brand_prodID1', 'brand_prodID2', 'brand_prodID3']].replace(\n",
    "    ['Apple', 'Samsung', 'Fitbit'], [0, 1, 2])"
   ]
  },
  {
   "cell_type": "code",
   "execution_count": 183,
   "id": "f296ee36-50af-46b7-8900-7bbb0f8cc216",
   "metadata": {},
   "outputs": [
    {
     "data": {
      "text/html": [
       "<div>\n",
       "<style scoped>\n",
       "    .dataframe tbody tr th:only-of-type {\n",
       "        vertical-align: middle;\n",
       "    }\n",
       "\n",
       "    .dataframe tbody tr th {\n",
       "        vertical-align: top;\n",
       "    }\n",
       "\n",
       "    .dataframe thead th {\n",
       "        text-align: right;\n",
       "    }\n",
       "</style>\n",
       "<table border=\"1\" class=\"dataframe\">\n",
       "  <thead>\n",
       "    <tr style=\"text-align: right;\">\n",
       "      <th></th>\n",
       "      <th>respID</th>\n",
       "      <th>taskID</th>\n",
       "      <th>setID</th>\n",
       "      <th>prodID1</th>\n",
       "      <th>prodID2</th>\n",
       "      <th>prodID3</th>\n",
       "      <th>choice</th>\n",
       "      <th>age</th>\n",
       "      <th>gender</th>\n",
       "      <th>region</th>\n",
       "      <th>...</th>\n",
       "      <th>price_prodID1</th>\n",
       "      <th>battery_life_prodID1</th>\n",
       "      <th>color_prodID2</th>\n",
       "      <th>brand_prodID2</th>\n",
       "      <th>price_prodID2</th>\n",
       "      <th>battery_life_prodID2</th>\n",
       "      <th>color_prodID3</th>\n",
       "      <th>brand_prodID3</th>\n",
       "      <th>price_prodID3</th>\n",
       "      <th>battery_life_prodID3</th>\n",
       "    </tr>\n",
       "  </thead>\n",
       "  <tbody>\n",
       "    <tr>\n",
       "      <th>0</th>\n",
       "      <td>3986</td>\n",
       "      <td>1</td>\n",
       "      <td>415</td>\n",
       "      <td>30</td>\n",
       "      <td>94</td>\n",
       "      <td>99</td>\n",
       "      <td>3</td>\n",
       "      <td>41</td>\n",
       "      <td>1</td>\n",
       "      <td>0</td>\n",
       "      <td>...</td>\n",
       "      <td>6190</td>\n",
       "      <td>10</td>\n",
       "      <td>0</td>\n",
       "      <td>1</td>\n",
       "      <td>3190</td>\n",
       "      <td>40</td>\n",
       "      <td>2</td>\n",
       "      <td>2</td>\n",
       "      <td>3190</td>\n",
       "      <td>40</td>\n",
       "    </tr>\n",
       "    <tr>\n",
       "      <th>1</th>\n",
       "      <td>41159</td>\n",
       "      <td>6</td>\n",
       "      <td>415</td>\n",
       "      <td>30</td>\n",
       "      <td>94</td>\n",
       "      <td>99</td>\n",
       "      <td>1</td>\n",
       "      <td>22</td>\n",
       "      <td>1</td>\n",
       "      <td>2</td>\n",
       "      <td>...</td>\n",
       "      <td>6190</td>\n",
       "      <td>10</td>\n",
       "      <td>0</td>\n",
       "      <td>1</td>\n",
       "      <td>3190</td>\n",
       "      <td>40</td>\n",
       "      <td>2</td>\n",
       "      <td>2</td>\n",
       "      <td>3190</td>\n",
       "      <td>40</td>\n",
       "    </tr>\n",
       "    <tr>\n",
       "      <th>2</th>\n",
       "      <td>7601</td>\n",
       "      <td>8</td>\n",
       "      <td>415</td>\n",
       "      <td>30</td>\n",
       "      <td>94</td>\n",
       "      <td>99</td>\n",
       "      <td>3</td>\n",
       "      <td>55</td>\n",
       "      <td>1</td>\n",
       "      <td>1</td>\n",
       "      <td>...</td>\n",
       "      <td>6190</td>\n",
       "      <td>10</td>\n",
       "      <td>0</td>\n",
       "      <td>1</td>\n",
       "      <td>3190</td>\n",
       "      <td>40</td>\n",
       "      <td>2</td>\n",
       "      <td>2</td>\n",
       "      <td>3190</td>\n",
       "      <td>40</td>\n",
       "    </tr>\n",
       "    <tr>\n",
       "      <th>3</th>\n",
       "      <td>33634</td>\n",
       "      <td>8</td>\n",
       "      <td>415</td>\n",
       "      <td>30</td>\n",
       "      <td>94</td>\n",
       "      <td>99</td>\n",
       "      <td>2</td>\n",
       "      <td>23</td>\n",
       "      <td>1</td>\n",
       "      <td>0</td>\n",
       "      <td>...</td>\n",
       "      <td>6190</td>\n",
       "      <td>10</td>\n",
       "      <td>0</td>\n",
       "      <td>1</td>\n",
       "      <td>3190</td>\n",
       "      <td>40</td>\n",
       "      <td>2</td>\n",
       "      <td>2</td>\n",
       "      <td>3190</td>\n",
       "      <td>40</td>\n",
       "    </tr>\n",
       "    <tr>\n",
       "      <th>4</th>\n",
       "      <td>45859</td>\n",
       "      <td>4</td>\n",
       "      <td>415</td>\n",
       "      <td>30</td>\n",
       "      <td>94</td>\n",
       "      <td>99</td>\n",
       "      <td>3</td>\n",
       "      <td>30</td>\n",
       "      <td>0</td>\n",
       "      <td>0</td>\n",
       "      <td>...</td>\n",
       "      <td>6190</td>\n",
       "      <td>10</td>\n",
       "      <td>0</td>\n",
       "      <td>1</td>\n",
       "      <td>3190</td>\n",
       "      <td>40</td>\n",
       "      <td>2</td>\n",
       "      <td>2</td>\n",
       "      <td>3190</td>\n",
       "      <td>40</td>\n",
       "    </tr>\n",
       "  </tbody>\n",
       "</table>\n",
       "<p>5 rows × 22 columns</p>\n",
       "</div>"
      ],
      "text/plain": [
       "   respID  taskID  setID  prodID1  prodID2  prodID3  choice  age  gender  \\\n",
       "0    3986       1    415       30       94       99       3   41       1   \n",
       "1   41159       6    415       30       94       99       1   22       1   \n",
       "2    7601       8    415       30       94       99       3   55       1   \n",
       "3   33634       8    415       30       94       99       2   23       1   \n",
       "4   45859       4    415       30       94       99       3   30       0   \n",
       "\n",
       "   region  ...  price_prodID1  battery_life_prodID1  color_prodID2  \\\n",
       "0       0  ...           6190                    10              0   \n",
       "1       2  ...           6190                    10              0   \n",
       "2       1  ...           6190                    10              0   \n",
       "3       0  ...           6190                    10              0   \n",
       "4       0  ...           6190                    10              0   \n",
       "\n",
       "   brand_prodID2  price_prodID2  battery_life_prodID2  color_prodID3  \\\n",
       "0              1           3190                    40              2   \n",
       "1              1           3190                    40              2   \n",
       "2              1           3190                    40              2   \n",
       "3              1           3190                    40              2   \n",
       "4              1           3190                    40              2   \n",
       "\n",
       "   brand_prodID3  price_prodID3  battery_life_prodID3  \n",
       "0              2           3190                    40  \n",
       "1              2           3190                    40  \n",
       "2              2           3190                    40  \n",
       "3              2           3190                    40  \n",
       "4              2           3190                    40  \n",
       "\n",
       "[5 rows x 22 columns]"
      ]
     },
     "execution_count": 183,
     "metadata": {},
     "output_type": "execute_result"
    }
   ],
   "source": [
    "# Overview of the dataset\n",
    "survey_1.head()"
   ]
  },
  {
   "cell_type": "code",
   "execution_count": 186,
   "id": "e827bb17-3412-4293-8ee1-66ba35063083",
   "metadata": {},
   "outputs": [
    {
     "data": {
      "text/plain": [
       "0"
      ]
     },
     "execution_count": 186,
     "metadata": {},
     "output_type": "execute_result"
    }
   ],
   "source": [
    "# Is there any duplicates\n",
    "survey_1.duplicated().sum()"
   ]
  },
  {
   "cell_type": "markdown",
   "id": "62d6e8bf-8ee5-4f8e-a30c-983025818092",
   "metadata": {},
   "source": [
    "Building models"
   ]
  },
  {
   "cell_type": "markdown",
   "id": "9f97e9c4-2e9a-44d1-9264-2da3621f3232",
   "metadata": {},
   "source": [
    "SCIKIT LEARN  FOR PREDICTION"
   ]
  },
  {
   "cell_type": "code",
   "execution_count": 245,
   "id": "c05bed28-b98e-432f-9cbb-fc4e42725f41",
   "metadata": {},
   "outputs": [
    {
     "name": "stdout",
     "output_type": "stream",
     "text": [
      "Précision du modèle : 0.49\n",
      "Coefficients du modèle : [[-1.15781419e-02  2.09907727e-02 -8.92634080e-03 -2.00931149e-02\n",
      "  -3.57756531e-03 -9.11639089e-02 -2.73182778e-02 -9.66427290e-03\n",
      "   3.20097096e-02  1.05759975e-01 -1.22413868e-03 -5.03318669e-03\n",
      "   7.31249282e-03 -4.72085804e-03 -2.38830606e-02]\n",
      " [-1.44432214e-03 -2.54823547e-02  8.99269394e-03  3.38011459e-02\n",
      "  -1.81030845e-02  4.43283344e-02  4.85793669e-03 -1.45641051e-03\n",
      "  -6.77158014e-02 -1.22425960e-01 -1.82135276e-02  1.61190071e-02\n",
      "   1.77164080e-02  7.04759694e-02  7.60470206e-03]\n",
      " [ 1.30224641e-02  4.49158202e-03 -6.63531419e-05 -1.37080310e-02\n",
      "   2.16806498e-02  4.68355745e-02  2.24603411e-02  1.11206834e-02\n",
      "   3.57060918e-02  1.66659847e-02  1.94376663e-02 -1.10858204e-02\n",
      "  -2.50289008e-02 -6.57551114e-02  1.62783585e-02]]\n",
      "Intercepts : [-0.30950935 -0.07114144  0.38065079]\n",
      "Le score associé au premier modèle est 0.37333333333333335\n"
     ]
    },
    {
     "name": "stderr",
     "output_type": "stream",
     "text": [
      "/opt/anaconda3/lib/python3.11/site-packages/sklearn/base.py:432: UserWarning: X has feature names, but LogisticRegression was fitted without feature names\n",
      "  warnings.warn(\n"
     ]
    }
   ],
   "source": [
    "### First model : multinomial logistic regression\n",
    "\n",
    "# Variables\n",
    "Y = survey_1['choice']\n",
    "X = survey_1.iloc[:, 7:]\n",
    "\n",
    "# Train / Test Split\n",
    "X_train, X_test, Y_train, Y_test = train_test_split(X, Y, test_size = 0.2, random_state = 42)\n",
    "\n",
    "# Pipeline to standardize and create the first model\n",
    "pipeline_1 = Pipeline([('scaler', StandardScaler()), \n",
    "                       ('model_1', LogisticRegression(multi_class='multinomial', solver='lbfgs', max_iter=200))])\n",
    "\n",
    "pipeline_1.fit(X_train, Y_train)\n",
    "\n",
    "# Prediction\n",
    "Y_pred = pipeline_1.predict(X_test)\n",
    "\n",
    "# Evaluation\n",
    "accuracy = accuracy_score(Y_test, Y_pred)\n",
    "print(f\"Précision du modèle : {accuracy}\")\n",
    "\n",
    "# Extract the model from pipeline\n",
    "model_1 = pipeline_1.named_steps['model_1']\n",
    "\n",
    "# Coefficients estimation\n",
    "print(\"Coefficients du modèle :\", model_1.coef_)\n",
    "print(\"Intercepts :\", model_1.intercept_)\n",
    "print('Le score associé au premier modèle est', model_1.score(X_test, Y_test))"
   ]
  },
  {
   "cell_type": "markdown",
   "id": "6338ee6b-45e4-455f-bdb5-3715234e43fb",
   "metadata": {},
   "source": [
    "STATSMODELS FOR STATISTCAL INTERPRETATION"
   ]
  },
  {
   "cell_type": "code",
   "execution_count": 284,
   "id": "ec3677b2-fdf6-4ae2-b1cb-dac6d17247a0",
   "metadata": {},
   "outputs": [
    {
     "name": "stdout",
     "output_type": "stream",
     "text": [
      "Optimization terminated successfully.\n",
      "         Current function value: 1.045541\n",
      "         Iterations 5\n",
      "                          MNLogit Regression Results                          \n",
      "==============================================================================\n",
      "Dep. Variable:                 choice   No. Observations:                 6000\n",
      "Model:                        MNLogit   Df Residuals:                     5968\n",
      "Method:                           MLE   Df Model:                           30\n",
      "Date:                Tue, 17 Dec 2024   Pseudo R-squ.:                0.008599\n",
      "Time:                        14:46:10   Log-Likelihood:                -6273.2\n",
      "converged:                       True   LL-Null:                       -6327.7\n",
      "Covariance Type:            nonrobust   LLR p-value:                 7.153e-11\n",
      "========================================================================================\n",
      "            choice=2       coef    std err          z      P>|z|      [0.025      0.975]\n",
      "----------------------------------------------------------------------------------------\n",
      "const                    0.2837      0.211      1.347      0.178      -0.129       0.696\n",
      "age                  -6.621e-05      0.003     -0.021      0.983      -0.006       0.006\n",
      "gender                  -0.1092      0.072     -1.515      0.130      -0.250       0.032\n",
      "region                   0.0095      0.012      0.811      0.417      -0.013       0.032\n",
      "color_prodID1            0.0482      0.044      1.107      0.268      -0.037       0.134\n",
      "brand_prodID1           -0.0318      0.049     -0.648      0.517      -0.128       0.064\n",
      "price_prodID1         8.835e-05   2.01e-05      4.391      0.000    4.89e-05       0.000\n",
      "battery_life_prodID1    -0.0003      0.001     -0.209      0.834      -0.003       0.003\n",
      "color_prodID2           -0.0008      0.044     -0.018      0.986      -0.088       0.086\n",
      "brand_prodID2           -0.1131      0.052     -2.195      0.028      -0.214      -0.012\n",
      "price_prodID2           -0.0001   2.02e-05     -6.412      0.000      -0.000   -8.99e-05\n",
      "battery_life_prodID2     0.0001      0.002      0.081      0.935      -0.003       0.003\n",
      "color_prodID3            0.0317      0.044      0.716      0.474      -0.055       0.119\n",
      "brand_prodID3            0.0435      0.044      0.995      0.320      -0.042       0.129\n",
      "price_prodID3          3.43e-05   1.83e-05      1.872      0.061    -1.6e-06    7.02e-05\n",
      "battery_life_prodID3    -0.0003      0.001     -0.222      0.824      -0.003       0.002\n",
      "----------------------------------------------------------------------------------------\n",
      "            choice=3       coef    std err          z      P>|z|      [0.025      0.975]\n",
      "----------------------------------------------------------------------------------------\n",
      "const                    0.5394      0.191      2.822      0.005       0.165       0.914\n",
      "age                      0.0023      0.003      0.797      0.426      -0.003       0.008\n",
      "gender                  -0.0557      0.066     -0.850      0.395      -0.184       0.073\n",
      "region                   0.0102      0.011      0.957      0.339      -0.011       0.031\n",
      "color_prodID1           -0.0002      0.040     -0.005      0.996      -0.078       0.077\n",
      "brand_prodID1            0.0424      0.045      0.952      0.341      -0.045       0.130\n",
      "price_prodID1         8.587e-05   1.84e-05      4.666      0.000    4.98e-05       0.000\n",
      "battery_life_prodID1  5.355e-05      0.001      0.040      0.968      -0.003       0.003\n",
      "color_prodID2            0.0037      0.040      0.091      0.928      -0.076       0.083\n",
      "brand_prodID2           -0.0010      0.047     -0.021      0.983      -0.092       0.090\n",
      "price_prodID2        -5.178e-05   1.79e-05     -2.894      0.004   -8.69e-05   -1.67e-05\n",
      "battery_life_prodID2     0.0014      0.001      1.048      0.295      -0.001       0.004\n",
      "color_prodID3            0.0161      0.040      0.399      0.690      -0.063       0.095\n",
      "brand_prodID3           -0.0133      0.040     -0.335      0.738      -0.091       0.065\n",
      "price_prodID3        -3.956e-05   1.69e-05     -2.342      0.019   -7.27e-05   -6.45e-06\n",
      "battery_life_prodID3     0.0004      0.001      0.285      0.776      -0.002       0.003\n",
      "========================================================================================\n"
     ]
    }
   ],
   "source": [
    "# Reminder: Variables\n",
    "\n",
    "Y = survey_1['choice']\n",
    "X = survey_1.iloc[:, 7:]\n",
    "\n",
    "# Add a constant to represent the intercept\n",
    "X_const = sm.add_constant(X)\n",
    "\n",
    "# Multinomial logit model\n",
    "model = sm.MNLogit(Y, X_const)\n",
    "\n",
    "# Ajustement du modèle\n",
    "result = model.fit()\n",
    "\n",
    "# Affichage des résultats\n",
    "print(result.summary())\n",
    "\n",
    "# Prediction\n",
    "# prediction_prob = model.predict(X_const) # probabilities for each productID\n",
    "# prediction = prediction_prob.idxmax(axis = 1) # Gives us the index of most likely productID\n",
    "\n",
    "# Accuracy\n",
    "# accuracy = accuracy_score(Y, prediction)\n",
    "# print('Accuracy:', accuracy)"
   ]
  },
  {
   "cell_type": "code",
   "execution_count": null,
   "id": "e9c61698-d2e4-4021-ad2c-809e56dd4516",
   "metadata": {},
   "outputs": [],
   "source": []
  }
 ],
 "metadata": {
  "kernelspec": {
   "display_name": "Python 3 (ipykernel)",
   "language": "python",
   "name": "python3"
  },
  "language_info": {
   "codemirror_mode": {
    "name": "ipython",
    "version": 3
   },
   "file_extension": ".py",
   "mimetype": "text/x-python",
   "name": "python",
   "nbconvert_exporter": "python",
   "pygments_lexer": "ipython3",
   "version": "3.11.7"
  }
 },
 "nbformat": 4,
 "nbformat_minor": 5
}
